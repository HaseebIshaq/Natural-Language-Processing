{
 "cells": [
  {
   "cell_type": "code",
   "execution_count": 1,
   "id": "76c59563",
   "metadata": {},
   "outputs": [],
   "source": [
    "file = open(\"diary_entries.txt\",\"r\")"
   ]
  },
  {
   "cell_type": "code",
   "execution_count": 2,
   "id": "365d62d9",
   "metadata": {},
   "outputs": [
    {
     "data": {
      "text/plain": [
       "'\\nEntry dated a week before the murder:\\n\"I\\'m growing increasingly concerned about Henry. He\\'s been acting distant lately, and I heard rumors about his dissatisfaction with my decision regarding the library\\'s future. I hope he understands it\\'s for the best.\"\\n\\nEntry dated two days before the murder:\\n\"Marcus confronted me today about the rare manuscripts. I understand his passion, but the library\\'s policies must be upheld. I cannot make exceptions, even for him.\"\\n\\nEntry dated the day before the murder:\\n\"Lila\\'s questions about the library\\'s rumored treasure are becoming more insistent. I must be careful. There\\'s too much at stake. Sophia, too, seems overly curious about legends best left undisturbed.\"\\n'"
      ]
     },
     "execution_count": 2,
     "metadata": {},
     "output_type": "execute_result"
    }
   ],
   "source": [
    "file.read()"
   ]
  },
  {
   "cell_type": "code",
   "execution_count": 8,
   "id": "3e8609da",
   "metadata": {},
   "outputs": [],
   "source": [
    "import nltk\n",
    "from nltk import sent_tokenize"
   ]
  },
  {
   "cell_type": "code",
   "execution_count": 12,
   "id": "39c314e7",
   "metadata": {},
   "outputs": [],
   "source": [
    "text = \"\"\"Entry dated a week before the murder:\n",
    "\"I'm growing increasingly concerned about Henry. He's been acting distant lately, and I heard rumors about his dissatisfaction with my decision regarding the library's future. I hope he understands it's for the best.\"\n",
    "\n",
    "Entry dated two days before the murder:\n",
    "\"Marcus confronted me today about the rare manuscripts. I understand his passion, but the library's policies must be upheld. I cannot make exceptions, even for him.\"\n",
    "\n",
    "Entry dated the day before the murder:\n",
    "\"Lila's questions about the library's rumored treasure are becoming more insistent. I must be careful. There's too much at stake. Sophia too seems overly curious about legends best left undisturbed.\"\"\""
   ]
  },
  {
   "cell_type": "code",
   "execution_count": 14,
   "id": "42176ab6",
   "metadata": {},
   "outputs": [],
   "source": [
    "sentences = sent_tokenize(text)"
   ]
  },
  {
   "cell_type": "code",
   "execution_count": 15,
   "id": "14396088",
   "metadata": {},
   "outputs": [
    {
     "data": {
      "text/plain": [
       "['Entry dated a week before the murder:\\n\"I\\'m growing increasingly concerned about Henry.',\n",
       " \"He's been acting distant lately, and I heard rumors about his dissatisfaction with my decision regarding the library's future.\",\n",
       " 'I hope he understands it\\'s for the best.\"',\n",
       " 'Entry dated two days before the murder:\\n\"Marcus confronted me today about the rare manuscripts.',\n",
       " \"I understand his passion, but the library's policies must be upheld.\",\n",
       " 'I cannot make exceptions, even for him.\"',\n",
       " 'Entry dated the day before the murder:\\n\"Lila\\'s questions about the library\\'s rumored treasure are becoming more insistent.',\n",
       " 'I must be careful.',\n",
       " \"There's too much at stake.\",\n",
       " 'Sophia too seems overly curious about legends best left undisturbed.']"
      ]
     },
     "execution_count": 15,
     "metadata": {},
     "output_type": "execute_result"
    }
   ],
   "source": [
    "sentences"
   ]
  },
  {
   "cell_type": "code",
   "execution_count": 21,
   "id": "f9e8ab4c",
   "metadata": {},
   "outputs": [],
   "source": [
    "from textblob import TextBlob"
   ]
  },
  {
   "cell_type": "code",
   "execution_count": 24,
   "id": "2549f6ce",
   "metadata": {},
   "outputs": [
    {
     "name": "stdout",
     "output_type": "stream",
     "text": [
      "'Entry dated a week before the murder:\n",
      "\"I'm growing increasingly concerned about Henry.' is neutral. Polarity:  0.0\n",
      "'He's been acting distant lately, and I heard rumors about his dissatisfaction with my decision regarding the library's future.' has a negative sentiment. Polarity:  -0.1\n",
      "'I hope he understands it's for the best.\"' has a positive sentiment. Polarity:  1.0\n",
      "'Entry dated two days before the murder:\n",
      "\"Marcus confronted me today about the rare manuscripts.' has a positive sentiment. Polarity:  0.3\n",
      "'I understand his passion, but the library's policies must be upheld.' is neutral. Polarity:  0.0\n",
      "'I cannot make exceptions, even for him.\"' is neutral. Polarity:  0.0\n",
      "'Entry dated the day before the murder:\n",
      "\"Lila's questions about the library's rumored treasure are becoming more insistent.' has a positive sentiment. Polarity:  0.475\n",
      "'I must be careful.' has a negative sentiment. Polarity:  -0.1\n",
      "'There's too much at stake.' has a positive sentiment. Polarity:  0.2\n",
      "'Sophia too seems overly curious about legends best left undisturbed.' has a positive sentiment. Polarity:  0.3\n"
     ]
    }
   ],
   "source": [
    "for sentence in sentences:\n",
    "    analysis = TextBlob(sentence)\n",
    "    polarity = analysis.sentiment.polarity\n",
    "    if polarity > 0:\n",
    "        print(f\"'{sentence.strip()}' has a positive sentiment.\",\"Polarity: \",polarity)\n",
    "    elif polarity < 0:\n",
    "        print(f\"'{sentence.strip()}' has a negative sentiment.\",\"Polarity: \",polarity)\n",
    "    else:\n",
    "        print(f\"'{sentence.strip()}' is neutral.\",\"Polarity: \",polarity)"
   ]
  },
  {
   "cell_type": "code",
   "execution_count": 27,
   "id": "a9c1ef38",
   "metadata": {},
   "outputs": [],
   "source": [
    "text = \"\"\"Witness Statement 1:\n",
    "\"I saw Marcus and Evelyn arguing in the reading room. It was quite heated, and Marcus seemed very upset about not having access to some of the rare books he needed for his research.\"\n",
    "\n",
    "Witness Statement 2:\n",
    "\"During the evening, I noticed Henry wandering around the library. He seemed anxious and kept glancing at the clock. It was odd because he usually seems so at ease here.\"\n",
    "\n",
    "Witness Statement 3:\n",
    "\"Sophia and Lila were deep in conversation by the rare collections. They were speaking in hushed tones, and it seemed secretive. I couldn't catch what it was about, but they looked serious.\"\"\""
   ]
  },
  {
   "cell_type": "code",
   "execution_count": 28,
   "id": "6fc944ab",
   "metadata": {},
   "outputs": [],
   "source": [
    "sentences = sent_tokenize(text)"
   ]
  },
  {
   "cell_type": "code",
   "execution_count": 29,
   "id": "98fe6072",
   "metadata": {},
   "outputs": [
    {
     "name": "stdout",
     "output_type": "stream",
     "text": [
      "'Witness Statement 1:\n",
      "\"I saw Marcus and Evelyn arguing in the reading room.' is neutral. Polarity:  0.0\n",
      "'It was quite heated, and Marcus seemed very upset about not having access to some of the rare books he needed for his research.\"' has a positive sentiment. Polarity:  0.25\n",
      "'Witness Statement 2:\n",
      "\"During the evening, I noticed Henry wandering around the library.' is neutral. Polarity:  0.0\n",
      "'He seemed anxious and kept glancing at the clock.' has a negative sentiment. Polarity:  -0.25\n",
      "'It was odd because he usually seems so at ease here.\"' has a negative sentiment. Polarity:  -0.20833333333333331\n",
      "'Witness Statement 3:\n",
      "\"Sophia and Lila were deep in conversation by the rare collections.' has a positive sentiment. Polarity:  0.15\n",
      "'They were speaking in hushed tones, and it seemed secretive.' is neutral. Polarity:  0.0\n",
      "'I couldn't catch what it was about, but they looked serious.' has a negative sentiment. Polarity:  -0.3333333333333333\n"
     ]
    }
   ],
   "source": [
    "for sentence in sentences:\n",
    "    analysis = TextBlob(sentence)\n",
    "    polarity = analysis.sentiment.polarity\n",
    "    if polarity > 0:\n",
    "        print(f\"'{sentence.strip()}' has a positive sentiment.\",\"Polarity: \",polarity)\n",
    "    elif polarity < 0:\n",
    "        print(f\"'{sentence.strip()}' has a negative sentiment.\",\"Polarity: \",polarity)\n",
    "    else:\n",
    "        print(f\"'{sentence.strip()}' is neutral.\",\"Polarity: \",polarity)"
   ]
  },
  {
   "cell_type": "code",
   "execution_count": 30,
   "id": "8a7fa793",
   "metadata": {},
   "outputs": [],
   "source": [
    "text = \"\"\"I must express my strong opposition to this course of action. Selling any part of the collection, especially in such a manner, goes against everything the library stands for. We need to discuss this further.\"\"\""
   ]
  },
  {
   "cell_type": "code",
   "execution_count": 31,
   "id": "e8d29eba",
   "metadata": {},
   "outputs": [],
   "source": [
    "sentences = sent_tokenize(text)"
   ]
  },
  {
   "cell_type": "code",
   "execution_count": 32,
   "id": "dd71a525",
   "metadata": {},
   "outputs": [
    {
     "name": "stdout",
     "output_type": "stream",
     "text": [
      "'I must express my strong opposition to this course of action.' has a positive sentiment. Polarity:  0.26666666666666666\n",
      "'Selling any part of the collection, especially in such a manner, goes against everything the library stands for.' is neutral. Polarity:  0.0\n",
      "'We need to discuss this further.' is neutral. Polarity:  0.0\n"
     ]
    }
   ],
   "source": [
    "for sentence in sentences:\n",
    "    analysis = TextBlob(sentence)\n",
    "    polarity = analysis.sentiment.polarity\n",
    "    if polarity > 0:\n",
    "        print(f\"'{sentence.strip()}' has a positive sentiment.\",\"Polarity: \",polarity)\n",
    "    elif polarity < 0:\n",
    "        print(f\"'{sentence.strip()}' has a negative sentiment.\",\"Polarity: \",polarity)\n",
    "    else:\n",
    "        print(f\"'{sentence.strip()}' is neutral.\",\"Polarity: \",polarity)"
   ]
  },
  {
   "cell_type": "markdown",
   "id": "3f2b0f67",
   "metadata": {},
   "source": [
    "# On the bases of sentiment analysis the polarity of sentence including Lila has the least negative"
   ]
  },
  {
   "cell_type": "code",
   "execution_count": 33,
   "id": "350e3f45",
   "metadata": {},
   "outputs": [],
   "source": [
    "# Lila Sutton checked in at 6 PM and checked out at 10:30 PM.\n",
    "# Lila Present in time of murder"
   ]
  },
  {
   "cell_type": "code",
   "execution_count": null,
   "id": "c2dcfe57",
   "metadata": {},
   "outputs": [],
   "source": []
  }
 ],
 "metadata": {
  "kernelspec": {
   "display_name": "Python 3 (ipykernel)",
   "language": "python",
   "name": "python3"
  },
  "language_info": {
   "codemirror_mode": {
    "name": "ipython",
    "version": 3
   },
   "file_extension": ".py",
   "mimetype": "text/x-python",
   "name": "python",
   "nbconvert_exporter": "python",
   "pygments_lexer": "ipython3",
   "version": "3.9.18"
  }
 },
 "nbformat": 4,
 "nbformat_minor": 5
}
