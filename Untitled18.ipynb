{
  "nbformat": 4,
  "nbformat_minor": 0,
  "metadata": {
    "colab": {
      "provenance": []
    },
    "kernelspec": {
      "name": "python3",
      "display_name": "Python 3"
    },
    "language_info": {
      "name": "python"
    }
  },
  "cells": [
    {
      "cell_type": "code",
      "execution_count": 1,
      "metadata": {
        "id": "_smd0t92sadq"
      },
      "outputs": [],
      "source": [
        "import spacy"
      ]
    },
    {
      "cell_type": "code",
      "source": [
        "import spacy\n",
        "\n",
        "nlp = spacy.load('en_core_web_sm')\n",
        "\n",
        "sentence = \"\"\"'\\nEntry dated a week before the murder:\\n\"I\\'m growing increasingly concerned about Henry. He\\'s been acting distant lately, and I heard rumors about his dissatisfaction with my decision regarding the library\\'s future. I hope he understands it\\'s for the best.\"\\n\\nEntry dated two days before the murder:\\n\"Marcus confronted me today about the rare manuscripts. I understand his passion, but the library\\'s policies must be upheld. I cannot make exceptions, even for him.\"\\n\\nEntry dated the day before the murder:\\n\"Lila\\'s questions about the library\\'s rumored treasure are becoming more insistent. I must be careful. There\\'s too much at stake. Sophia, too, seems overly curious about legends best left undisturbed.\"\\n'\"\"\"\n",
        "\n",
        "doc = nlp(sentence)\n",
        "\n",
        "for ent in doc.ents:\n",
        "    print(ent.text, ent.start_char, ent.end_char, ent.label_)"
      ],
      "metadata": {
        "colab": {
          "base_uri": "https://localhost:8080/"
        },
        "id": "Bxy8ulnOsbzA",
        "outputId": "42ce1c06-62a8-42e8-df73-dd40aab18f9d"
      },
      "execution_count": 3,
      "outputs": [
        {
          "output_type": "stream",
          "name": "stdout",
          "text": [
            "a week 14 20 DATE\n",
            "Henry 82 87 GPE\n",
            "two days 271 279 DATE\n",
            "Marcus 300 306 PERSON\n",
            "today 321 326 DATE\n",
            "the day 478 485 DATE\n",
            "Lila 506 510 PERSON\n",
            "Sophia 635 641 PERSON\n"
          ]
        }
      ]
    },
    {
      "cell_type": "code",
      "source": [
        "sentence = \"\"\"Log Entries for the Night of the Murder:\n",
        "- Marcus Finch checked out at 9:45 PM.\n",
        "- Henry Clarke's shift ended at 8 PM, as per his recent request.\n",
        "- Lila Sutton checked in at 6 PM and checked out at 10:30 PM.\n",
        "- Sophia Green was present in the library from 7 PM until closing.\"\"\""
      ],
      "metadata": {
        "id": "z5f6CwcJszQz"
      },
      "execution_count": 7,
      "outputs": []
    },
    {
      "cell_type": "code",
      "source": [
        "doc = nlp(sentence)\n",
        "\n",
        "for ent in doc.ents:\n",
        "    print(ent.text, ent.start_char, ent.end_char, ent.label_)"
      ],
      "metadata": {
        "colab": {
          "base_uri": "https://localhost:8080/"
        },
        "id": "AkikrL0DtdOS",
        "outputId": "17e5fb05-c02d-4f45-f99b-4af13fd716df"
      },
      "execution_count": 8,
      "outputs": [
        {
          "output_type": "stream",
          "name": "stdout",
          "text": [
            "Log Entries 0 11 PERSON\n",
            "the Night of the Murder:\n",
            "- Marcus Finch 16 55 WORK_OF_ART\n",
            "9:45 PM 71 78 TIME\n",
            "Henry Clarke's 82 96 PERSON\n",
            "8 PM 112 116 TIME\n",
            "Lila Sutton 147 158 PERSON\n",
            "6 PM 173 177 TIME\n",
            "10:30 PM 197 205 TIME\n",
            "Sophia Green 209 221 PRODUCT\n",
            "7 PM 254 258 TIME\n"
          ]
        }
      ]
    },
    {
      "cell_type": "code",
      "source": [
        "text = \"'He's been acting distant lately, and I heard rumors about his dissatisfaction with my decision regarding the library's future.'\""
      ],
      "metadata": {
        "id": "_WdPNpHFte0O"
      },
      "execution_count": 9,
      "outputs": []
    },
    {
      "cell_type": "code",
      "source": [],
      "metadata": {
        "id": "SLUOyPxwx55V"
      },
      "execution_count": null,
      "outputs": []
    }
  ]
}