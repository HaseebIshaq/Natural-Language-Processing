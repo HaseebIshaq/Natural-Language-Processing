{
  "nbformat": 4,
  "nbformat_minor": 0,
  "metadata": {
    "colab": {
      "provenance": []
    },
    "kernelspec": {
      "name": "python3",
      "display_name": "Python 3"
    },
    "language_info": {
      "name": "python"
    }
  },
  "cells": [
    {
      "cell_type": "code",
      "execution_count": null,
      "metadata": {
        "id": "6JzwYPKJwq_n"
      },
      "outputs": [],
      "source": [
        "wikipedia_text = \"\"\"\n",
        "Matthew Langford Perry (August 19, 1969 – October 28, 2023) was an American and Canadian actor. He gained international fame for starring as Chandler Bing on the NBC television sitcom Friends (1994–2004). Perry also appeared on Ally McBeal (2002) and received Primetime Emmy Award nominations for his performances in The West Wing (2003) and The Ron Clark Story (2006). He played a leading role in the NBC series Studio 60 on the Sunset Strip (2006–2007). He also became known for his leading film roles in Fools Rush In (1997), Almost Heroes (1998), Three to Tango (1999), The Whole Nine Yards (2000), Serving Sara (2002), The Whole Ten Yards (2004), and 17 Again (2009).\n",
        "Perry was co-creator, co-writer, executive producer, and star of the ABC sitcom Mr. Sunshine, which ran from February to April 2011. In August 2012, he starred as sportscaster Ryan King on the NBC sitcom Go On. He co-developed and starred in a revival of the CBS sitcom The Odd Couple portraying Oscar Madison from 2015 to 2017. He had recurring roles in the legal dramas The Good Wife (2012–2013), and The Good Fight (2017). Perry portrayed Ted Kennedy in The Kennedys: After Camelot (2017) and appeared as himself in his final television role, Friends: The Reunion (2021). He voiced Benny in the video game Fallout: New Vegas (2010).\n",
        "Perry suffered from severe addictions to drugs and alcohol. Through his recovery, he became an advocate for rehabilitation and a spokesperson for the National Association of Drug Court Professionals. In 2013, Perry received the Champion of Recovery Award from the White House Office of National Drug Control Policy. In 2022, he released his memoir, Friends, Lovers, and the Big Terrible Thing.\n",
        "Early life and education\n",
        "Matthew Langford Perry was born in Williamstown, Massachusetts, on August 19, 1969.[1] His mother, Suzanne Marie Morrison (née Langford, born 1948),[2] is a Canadian journalist who was press secretary to Canadian prime minister Pierre Trudeau. His father, John Bennett Perry (born 1941), is an American actor and former model.[3][4]\n",
        "Perry's parents separated when he was one year old, and his mother married Canadian broadcast journalist Keith Morrison. He was raised by his mother mostly in Ottawa, Ontario, but he also lived briefly in Toronto and Montreal.[5] Perry attended Rockcliffe Park Public School and Ashbury College, a boarding school in Ottawa.[6][7] He had four younger maternal half-siblings—Caitlin, Emily, Will, and Madeline—as well as a younger paternal half-sister named Maria. His siblings \"would stand and applaud\" him for early performances.[8]\n",
        "By the time he was ten, Perry started misbehaving. He stole money, smoked, let his grades slip, and beat up fellow student and future Canadian prime minister Justin Trudeau.[7][9] Perry later attributed this to feeling like a family outsider who did not belong when his mother began having children with Morrison, writing \"I was so often on the outside looking in, still that kid up in the clouds on a flight to somewhere else, unaccompanied\".[8] At the age of 14, he began drinking alcohol and was drinking every day by the time he was 18.[10] Perry practiced tennis, often for 10 hours per day,[3] and became a top-ranked junior player in Canada with the possibility of a tennis career. However, at age 15, he moved from Ottawa to live with his father in Los Angeles, where competition was tougher.[3][9][11]\n",
        "At 15 years old, Perry studied acting at Buckley School, a college-preparatory school in Sherman Oaks, Los Angeles, and graduated in 1987.[12] While in high school, he took improvisational comedy classes at L.A. Connection in Sherman Oaks.[13]\n",
        "\n",
        "Perry as Chazz Russell in Boys Will Be Boys, 1988\n",
        "Perry's first credited role was a small part in 240-Robert in 1979 as a child actor.[14][15] Shortly after moving to Los Angeles, Perry started auditioning for roles.[3] Perry made guest appearances on Not Necessarily the News in 1983, Charles in Charge in 1985, and Silver Spoons in 1986.[14][13] In 1987 and 1988, he played Chazz Russell in the TV series Second Chance (later called Boys Will Be Boys). Perry made his film debut in 1988 with A Night in the Life of Jimmy Reardon.[16] In 1989, he had a three-episode arc on Growing Pains, portraying Carol Seaver's boyfriend Sandy, who dies in a drunk driving incident.[17]\n",
        "Perry was cast as a regular on the 1990 CBS sitcom Sydney, playing the younger brother of Valerie Bertinelli's character.[13] In 1991, he made a guest appearance on Beverly Hills, 90210 as Roger Azarian.[18] Perry played the starring role in the ABC sitcom Home Free, which aired in 1993.[19]\n",
        "1994–2004: Breakthrough with Friends\n",
        "\n",
        "Perry departing from rehearsal for the 1995 Emmy Awards\n",
        "Perry's commitment to a pilot for a sitcom called LAX 2194, set in the baggage handling department of Los Angeles Airport 200 years in the future,[20] initially made him unavailable for a role in another pilot, Six of One, later called Friends. After the LAX 2194 pilot fell through, he had the opportunity to read for a part in Six of One and was cast as Chandler Bing. At age 24, he was the youngest member of the main cast.[21] After making the pilot and while waiting for the show to air, Perry spent the summer of 1993 performing at the Williamstown Theater Festival alongside Gwyneth Paltrow.[22]\n",
        "Friends was hugely successful, and it made Perry an international celebrity.[3] By 2002, he and his co-stars Jennifer Aniston, Courteney Cox, Lisa Kudrow, Matt LeBlanc, and David Schwimmer were making $1 million per episode.[23] The program earned him an Emmy nomination\n",
        "\n",
        " in 2002 for the Outstanding Lead Actor in a Comedy Series award.[24] Perry appeared in films such Fools Rush In, Almost Heroes, Three to Tango, The Whole Nine Yards and its sequel The Whole Ten Yards, and Serving Sara.[citation needed] In 1995, he and Jennifer Aniston appeared in a 60-minute-long promotional video for Microsoft's Windows 95, released on VHS on August 1.[25]\n",
        "For his performance as Joe Quincy in The West Wing, Perry received two Emmy nominations for Outstanding Guest Actor in a Drama Series in 2003 and 2004.[24] He appeared as attorney Todd Merrick in two episodes of Ally McBeal.[26] In 2004, he made his directorial debut and acted in an episode of the fourth season of the comedy-drama Scrubs, an episode which included his father.[27]\n",
        "2005–2022: Later work\n",
        "\n",
        "Perry in 2007\n",
        "Perry starred in the TNT movie The Ron Clark Story, which premiered August 13, 2006,[28][29] and received a Golden Globe and Emmy nomination for his performance.[30][24] From 2006 to 2007, he appeared in Aaron Sorkin's drama Studio 60 on the Sunset Strip. Perry played Matt Albie alongside Bradley Whitford's Danny Tripp, a writer-director duo brought in to help save a failing sketch show.[31]\n",
        "In 2006, Perry began filming Numb, a film based on a man suffering from depersonalization disorder. The release was postponed several times, but it was finally released on DVD on May 13, 2008.[32] Perry also appeared on stage in London in David Mamet's Sexual Perversity in Chicago.[33] In 2008, Perry starred in the independent film Birds of America.[34] Showtime passed on a pilot called The End of Steve, a dark comedy starring, written, and produced by Perry and Peter Tolan.[35]\n",
        "In 2009, Perry starred in the film 17 Again playing a 37-year-old man who transforms into his 17-year-old self (Zac Efron) after an accident.[36] The film received mixed reviews and was a box-office success.[37][38] A review on WRC-TV found Perry miscast in his role, emphasizing the disbelief in Efron growing up to resemble Perry, both physically and behaviorally — a sentiment echoed by other critics.[39][40][41]\n",
        "In 2009, Perry was a guest on The Ellen DeGeneres Show, when he presented Ellen DeGeneres with an Xbox 360 video game console and a copy of the game Fallout 3. The gesture led to game studio Obsidian Entertainment casting him in Fallout: New Vegas as the voice of Benny.[42][43]\n",
        "Perry's new comedy pilot, Mr. Sunshine, based on his original idea for the show, was bought by ABC.[44][45] He played the lead role as a middle-aged man with an identity crisis.[46] ABC canceled the series after nine episodes in 2011.[47]\n",
        "\n",
        "Perry in 2012\n",
        "In 2012, Perry starred in the NBC comedy series Go On, written and produced by former Friends writer/producer Scott Silveri. Perry portrayed Ryan King, a sportscaster who tries to move on after the death of his wife through the help of mandatory therapy sessions.[48] In the same year, he guest-starred on the CBS drama The Good Wife as attorney Mike Kresteva. He reprised his role in the fourth season in 2013.[49]\n",
        "In 2014, Perry made his British TV debut in the one-off comedy program The Dog Thrower, which aired on May 1 as part of Sky Arts' Playhouse Presents. He portrayed \"a charismatic man\" who enchanted onlookers by throwing his dog in the air.[50] From 2015 to 2017, Perry starred in, co-wrote, and served as executive producer of a reboot of the sitcom The Odd Couple on CBS. He played Oscar Madison opposite Thomas Lennon as Felix Unger.[51]\n",
        "Perry played the lead role in the world premiere production of his play The End of Longing, which opened on February 11, 2016, at the Playhouse Theatre in London.[52] Its limited run proved successful despite mixed reviews.[53] Perry restructured the play and appeared alongside Jennifer Morrison in its second off-Broadway production, which opened at the Lucille Lortel Theatre on June 5, 2017. It closed on July 1 after receiving poor reviews.[54] Years later Perry described the play as \"a personal message to the world, an exaggerated form of me as a drunk. I had something important to say to people like me, and to people who love people like me.\"[55]\n",
        "In March 2017, Perry again reprised his role as attorney Mike Kresteva in The Good Fight, a sequel show to the CBS drama The Good Wife.[56] Later that year, he starred as Ted Kennedy in the mini-series The Kennedys: After Camelot.[57][58]\n",
        "In May 2021, he participated in the special episode Friends: The Reunion.[59] He was meant to have a role in Don't Look Up, but withdrew in 2020 because of CPR-induced broken ribs.[60] Perry published a memoir, Friends, Lovers, and the Big Terrible Thing, in October 2022. It became a bestseller on both Amazon and The New York Times charts.[61][62]\n",
        "Personal life\n",
        "\n",
        "Perry held Canadian and American citizenship. He dated Yasmine Bleeth in 1995, Julia Roberts from 1995 to 1996, and Lizzy Caplan from 2006 to 2012.[63][64] In November 2020, Perry became engaged to literary manager Molly Hurwitz. Their engagement ended in 2021.[65]\n",
        "Residences owned at some point by Perry included a condo in Sierra Towers purchased from Elton John, a house in Hollywood Hills, a house in Malibu, and a cottage in Pacific Palisades.[66][67][68][69] In 2017, Perry purchased a condo occupying the top floor of The Century in Los Angeles for $20 million,[70] selling it to Nick Molnar for $21.6 million in 2021, who in turn sold it to Rihanna in 2023.[71] In June 2023, Perry purchased a mid-century modern house in Hollywood Hills.[72]\n",
        "Perry had a perfectionist and obsessive personality, spending many hours perfecting his answering machine message.[3] He also believed in God, with whom he had \"a very close relationship,\"[73] calling himself \"a seeker.\"[74]\n",
        "Health and addiction\n",
        "In his memoirs, Perry wrote that by age 14, he became an alcoholic.[75] He became addicted to Vicodin after a jet-ski accident in 1997, and completed a 28-day rehab program at the Hazelden Betty Ford Foundation that year.[76] His weight dropped to 128 pounds (58 kg) as he took as many as 55 Vicodin pills per day.[77][78] In May 2000, at the age of 30, he was admitted to Cedars-Sinai Medical Center with\n",
        "\n",
        "While Perry said in 2002 that although he had made an effort not to drink on the set of Friends, he did arrive with extreme hangovers and sometimes would shake or sweat excessively on set.[3][75] During the later seasons of the series, he was frequently drunk or high on set. His castmates made efforts to help him, even staging an intervention,[75] but were unsuccessful.[3]\n",
        "In February 2001, Perry paused productions of Friends and Serving Sara for two months[3] so that he could enter in-patient rehabilitation for his addictions to Vicodin, methadone, amphetamines, and alcohol.[80] He said later that due to his substance use disorder he had no memory of three years of his work on Friends.[81]\n",
        "In 2018, Perry spent five months in a hospital for a gastrointestinal perforation. During the hospital stay, Perry nearly died after his colon burst from opioid abuse. He spent two weeks in a coma and used a colostomy bag for nine months. Upon being admitted to the hospital, doctors told his family that Perry had a 2% chance of survival. He was connected to an extracorporeal membrane oxygenation (ECMO) machine.[77]\n",
        "Two years later, while attending rehab in Switzerland, Perry faked pain to get a prescription for 1,800 milligrams of Oxycontin per day and was having daily ketamine infusions. He was given propofol in conjunction with a surgery, which stopped his heart for five minutes. The resulting cardiopulmonary resuscitation (CPR) resulted in eight broken ribs. He paid $175,000 for a private jet to take him to Los Angeles to get more drugs. When doctors there refused, Perry spent another $175,000 to take a private jet back to Switzerland.[82] In 2022, he estimated that he had spent $9 million on his addiction, including 14 stomach surgeries, 15 stays in rehab, and therapy twice a week for 30 years and had attended approximately 6,000 Alcoholics Anonymous meetings.[9][83]\n",
        "Philanthropy and advocacy\n",
        "In July 2011, Perry lobbied the US Congress as a celebrity spokesperson for the National Association of Drug Court Professionals in support of funding for drug courts.[84] He received a Champion of Recovery award in May 2013 from the White House Office of National Drug Control Policy for opening Perry House, a rehab center in his former mansion in Malibu.[85] In 2015, Perry sold the mansion and relocated its services.[86] During the COVID-19 pandemic, he launched an apparel line inspired by Friends, with proceeds donated to the World Health Organization's COVID-19 relief fund.[87]\n",
        "\n",
        "\n",
        "On October 28, 2023, Perry was found unresponsive in a hot tub at his home in Los Angeles and was pronounced dead at 4:17 pm that day, at the age of 54.[88][89]\n",
        "On November 3, 2023, Perry's funeral was held at Forest Lawn Memorial Park in Los Angeles where he was buried.[90] His five Friends co-stars attended, as did his father, mother and stepfather.[91] The Peter Gabriel and Kate Bush song \"Don't Give Up\" was played at his funeral. Perry was enamored with the song, and referenced it in signed copies of his autobiography, released in part to help people suffering from depression or addiction issues.[92] Following Perry's death, the National Philanthropic Trust established the \"Matthew Perry Foundation\" to support people suffering from addiction.[93]\n",
        "On December 15, 2023, Perry's death was revealed to have occurred due to \"acute effects of ketamine\".[94][95] Other circumstances that contributed to his death included the effects of buprenorphine, drowning, and coronary artery disease.[94] The LA County medical examiner said in a statement that \"at the high levels of ketamine found in his post-mortem blood specimens, the main lethal effects would be from both cardiovascular overstimulation and respiratory depression,\" while \"drowning contributes due to the likelihood of submersion into the pool as he lapsed into unconsciousness; coronary artery disease contributes due to exacerbation of ketamine induced myocardial effects on the heart\". Perry had been receiving ketamine-assisted psychotherapy sessions to treat anxiety at the time of his death, his last known session of which having been the week prior to his death. However, the report stated \"the ketamine in his system at death could not be from that infusion therapy since ketamine's half-life is 3 to 4 hours, or less\".[96][97][98]\n",
        "\"\"\""
      ]
    },
    {
      "cell_type": "code",
      "source": [
        "import re"
      ],
      "metadata": {
        "id": "pHRnfUOgy8M7"
      },
      "execution_count": null,
      "outputs": []
    },
    {
      "cell_type": "code",
      "source": [
        "# name_regex = r\"Matthew Langford Perry\"\n",
        "name_regex = r\"[M][a-z]+ [L][a-z]+ [P][a-z]+\"\n",
        "name = re.search(name_regex, wikipedia_text).group(0)\n",
        "\n",
        "print(\"Name:\", name)"
      ],
      "metadata": {
        "colab": {
          "base_uri": "https://localhost:8080/"
        },
        "id": "vV-KjjHjy8Ko",
        "outputId": "264a420d-3457-4b4c-d786-e8e2a999ecf5"
      },
      "execution_count": null,
      "outputs": [
        {
          "output_type": "stream",
          "name": "stdout",
          "text": [
            "Name: Matthew Langford Perry\n"
          ]
        }
      ]
    },
    {
      "cell_type": "code",
      "source": [
        "age_regex = r\"August 19, 1969 – October 28, 2023\"\n",
        "age = re.search(age_regex, wikipedia_text).group(0)\n",
        "print(\"Age:\", age)"
      ],
      "metadata": {
        "colab": {
          "base_uri": "https://localhost:8080/"
        },
        "id": "WazZh2x5zkM2",
        "outputId": "ae33ba71-f065-4a06-d08c-021b2acd6cf8"
      },
      "execution_count": null,
      "outputs": [
        {
          "output_type": "stream",
          "name": "stdout",
          "text": [
            "Age: August 19, 1969 – October 28, 2023\n"
          ]
        }
      ]
    },
    {
      "cell_type": "code",
      "source": [
        "years_regex = r\"\\b\\d{4}\\b\"\n",
        "\n",
        "years = re.findall(years_regex, wikipedia_text)\n",
        "\n",
        "print(\"Years mentioned in the Wikipedia text:\")\n",
        "for year in years:\n",
        "    print(year)"
      ],
      "metadata": {
        "colab": {
          "base_uri": "https://localhost:8080/"
        },
        "id": "7-7o97Az0Ok-",
        "outputId": "da80660b-ba1d-4c82-987a-d61f13b302d4"
      },
      "execution_count": null,
      "outputs": [
        {
          "output_type": "stream",
          "name": "stdout",
          "text": [
            "Years mentioned in the Wikipedia text:\n",
            "1969\n",
            "2023\n",
            "1994\n",
            "2004\n",
            "2002\n",
            "2003\n",
            "2006\n",
            "2006\n",
            "2007\n",
            "1997\n",
            "1998\n",
            "1999\n",
            "2000\n",
            "2002\n",
            "2004\n",
            "2009\n",
            "2011\n",
            "2012\n",
            "2015\n",
            "2017\n",
            "2012\n",
            "2013\n",
            "2017\n",
            "2017\n",
            "2021\n",
            "2010\n",
            "2013\n",
            "2022\n",
            "1969\n",
            "1948\n",
            "1941\n",
            "1987\n",
            "1988\n",
            "1979\n",
            "1983\n",
            "1985\n",
            "1986\n",
            "1987\n",
            "1988\n",
            "1988\n",
            "1989\n",
            "1990\n",
            "1991\n",
            "1993\n",
            "1994\n",
            "2004\n",
            "1995\n",
            "2194\n",
            "2194\n",
            "1993\n",
            "2002\n",
            "2002\n",
            "1995\n",
            "2003\n",
            "2004\n",
            "2004\n",
            "2005\n",
            "2022\n",
            "2007\n",
            "2006\n",
            "2006\n",
            "2007\n",
            "2006\n",
            "2008\n",
            "2008\n",
            "2009\n",
            "2009\n",
            "2011\n",
            "2012\n",
            "2012\n",
            "2013\n",
            "2014\n",
            "2015\n",
            "2017\n",
            "2016\n",
            "2017\n",
            "2017\n",
            "2021\n",
            "2020\n",
            "2022\n",
            "1995\n",
            "1995\n",
            "1996\n",
            "2006\n",
            "2012\n",
            "2020\n",
            "2021\n",
            "2017\n",
            "2021\n",
            "2023\n",
            "2023\n",
            "1997\n",
            "2000\n",
            "2002\n",
            "2001\n",
            "2018\n",
            "2022\n",
            "2011\n",
            "2013\n",
            "2015\n",
            "2023\n",
            "2023\n",
            "2023\n"
          ]
        }
      ]
    },
    {
      "cell_type": "code",
      "source": [
        "date_of_birth_regex = r\"August 19, 1969\"\n",
        "death_date_regex = r\"October 28, 2023\"\n",
        "date_of_birth = re.search(date_of_birth_regex, wikipedia_text).group(0)\n",
        "death_date = re.search(death_date_regex, wikipedia_text).group(0)\n",
        "print(\"Date of Birth:\", date_of_birth)\n",
        "print(\"Death Date:\", death_date)"
      ],
      "metadata": {
        "colab": {
          "base_uri": "https://localhost:8080/"
        },
        "id": "_KQvWqOY0v1h",
        "outputId": "7d9018b6-03a0-4443-b43f-a838d9b8a038"
      },
      "execution_count": null,
      "outputs": [
        {
          "output_type": "stream",
          "name": "stdout",
          "text": [
            "Date of Birth: August 19, 1969\n",
            "Death Date: October 28, 2023\n"
          ]
        }
      ]
    },
    {
      "cell_type": "code",
      "source": [
        "memoir_name_regex = r\"Friends, Lovers, and the Big Terrible Thing\"\n",
        "memoir_name = re.search(memoir_name_regex, wikipedia_text).group(0)\n",
        "print(\"Name of Memoir:\", memoir_name)"
      ],
      "metadata": {
        "colab": {
          "base_uri": "https://localhost:8080/"
        },
        "id": "XYlKy94K0vzP",
        "outputId": "df2281a9-6f7d-4b72-cc47-f582b7b3a6aa"
      },
      "execution_count": null,
      "outputs": [
        {
          "output_type": "stream",
          "name": "stdout",
          "text": [
            "Name of Memoir: Friends, Lovers, and the Big Terrible Thing\n"
          ]
        }
      ]
    },
    {
      "cell_type": "code",
      "source": [
        "spouse_regex = r\"dated\\s*(.*?)\\s*to\\s*(.*?)\\s*\\(|dated\\s*(.*?)\\s*until\\s*(.*?)\\s*\\(\"\n",
        "spouse = \"\"\n",
        "spouse_match = re.search(spouse_regex, wikipedia_text)\n",
        "if spouse_match:\n",
        "    spouse = spouse_match.group(1) or spouse_match.group(3)\n",
        "else:\n",
        "    spouse = None\n",
        "print(\"Spouse:\", spouse)"
      ],
      "metadata": {
        "colab": {
          "base_uri": "https://localhost:8080/"
        },
        "id": "caHB89K43Hx6",
        "outputId": "9af4ab9c-72ab-4c16-9f32-4376b294a476"
      },
      "execution_count": null,
      "outputs": [
        {
          "output_type": "stream",
          "name": "stdout",
          "text": [
            "Spouse: None\n"
          ]
        }
      ]
    },
    {
      "cell_type": "code",
      "source": [
        "tv_shows_movies_regex = r\"\\b[A-Z][a-zA-Z\\s:0-9,()'.–-]+\\(\\d{4}\\)\"\n",
        "tv_shows_movies = re.findall(tv_shows_movies_regex, wikipedia_text)\n",
        "\n",
        "# Print the list of TV shows and movies\n",
        "print(\"TV shows and movies Matthew Perry was cast in:\")\n",
        "for item in tv_shows_movies:\n",
        "    print(item)"
      ],
      "metadata": {
        "colab": {
          "base_uri": "https://localhost:8080/"
        },
        "id": "ik1lTvFZyV2M",
        "outputId": "dc4f132e-5fca-43b2-a236-73e514f9466b"
      },
      "execution_count": null,
      "outputs": [
        {
          "output_type": "stream",
          "name": "stdout",
          "text": [
            "TV shows and movies Matthew Perry was cast in:\n",
            "Matthew Langford Perry (August 19, 1969 – October 28, 2023) was an American and Canadian actor. He gained international fame for starring as Chandler Bing on the NBC television sitcom Friends (1994–2004). Perry also appeared on Ally McBeal (2002) and received Primetime Emmy Award nominations for his performances in The West Wing (2003) and The Ron Clark Story (2006). He played a leading role in the NBC series Studio 60 on the Sunset Strip (2006–2007). He also became known for his leading film roles in Fools Rush In (1997), Almost Heroes (1998), Three to Tango (1999), The Whole Nine Yards (2000), Serving Sara (2002), The Whole Ten Yards (2004), and 17 Again (2009).\n",
            "Perry was co-creator, co-writer, executive producer, and star of the ABC sitcom Mr. Sunshine, which ran from February to April 2011. In August 2012, he starred as sportscaster Ryan King on the NBC sitcom Go On. He co-developed and starred in a revival of the CBS sitcom The Odd Couple portraying Oscar Madison from 2015 to 2017. He had recurring roles in the legal dramas The Good Wife (2012–2013), and The Good Fight (2017). Perry portrayed Ted Kennedy in The Kennedys: After Camelot (2017) and appeared as himself in his final television role, Friends: The Reunion (2021). He voiced Benny in the video game Fallout: New Vegas (2010)\n"
          ]
        }
      ]
    },
    {
      "cell_type": "markdown",
      "source": [
        "## Task 2"
      ],
      "metadata": {
        "id": "mNM8rUqp6g7H"
      }
    },
    {
      "cell_type": "code",
      "source": [
        "# Define the dataset\n",
        "movies_dataset = {\n",
        "    \"The Shawshank Redemption\": \"Two imprisoned men bond over a number of years, finding solace and eventual redemption through acts of common decency.\",\n",
        "    \"The Godfather\": \"The aging patriarch of an organized crime dynasty transfers control of his clandestine empire to his reluctant son.\",\n",
        "    \"The Dark Knight\": \"When the menace known as the Joker wreaks havoc and chaos on the people of Gotham, Batman must accept one of the greatest psychological and physical tests of his ability to fight injustice.\",\n",
        "    \"Pulp Fiction\": \"The lives of two mob hitmen, a boxer, a gangster and his wife, and a pair of diner bandits intertwine in four tales of violence and redemption.\",\n",
        "    \"The Lord of the Rings: The Fellowship of the Ring\": \"A meek Hobbit from the Shire and eight companions set out on a journey to destroy the powerful One Ring and save Middle-earth from the Dark Lord Sauron.\"\n",
        "}\n",
        "\n",
        "# Accessing the dataset\n",
        "for movie, storyline in movies_dataset.items():\n",
        "    print(\"Movie:\", movie)\n",
        "    print(\"Storyline:\", storyline)\n",
        "    print()\n"
      ],
      "metadata": {
        "colab": {
          "base_uri": "https://localhost:8080/"
        },
        "id": "_pKrPPZx5hMJ",
        "outputId": "64935ebb-bea4-4849-c718-7a9cc9b1ad75"
      },
      "execution_count": null,
      "outputs": [
        {
          "output_type": "stream",
          "name": "stdout",
          "text": [
            "Movie: The Shawshank Redemption\n",
            "Storyline: Two imprisoned men bond over a number of years, finding solace and eventual redemption through acts of common decency.\n",
            "\n",
            "Movie: The Godfather\n",
            "Storyline: The aging patriarch of an organized crime dynasty transfers control of his clandestine empire to his reluctant son.\n",
            "\n",
            "Movie: The Dark Knight\n",
            "Storyline: When the menace known as the Joker wreaks havoc and chaos on the people of Gotham, Batman must accept one of the greatest psychological and physical tests of his ability to fight injustice.\n",
            "\n",
            "Movie: Pulp Fiction\n",
            "Storyline: The lives of two mob hitmen, a boxer, a gangster and his wife, and a pair of diner bandits intertwine in four tales of violence and redemption.\n",
            "\n",
            "Movie: The Lord of the Rings: The Fellowship of the Ring\n",
            "Storyline: A meek Hobbit from the Shire and eight companions set out on a journey to destroy the powerful One Ring and save Middle-earth from the Dark Lord Sauron.\n",
            "\n"
          ]
        }
      ]
    },
    {
      "cell_type": "code",
      "source": [
        "import nltk\n",
        "from nltk.tokenize import word_tokenize\n",
        "from nltk.corpus import stopwords\n",
        "import string\n",
        "\n",
        "# Download NLTK resources\n",
        "nltk.download('punkt')\n",
        "nltk.download('stopwords')"
      ],
      "metadata": {
        "colab": {
          "base_uri": "https://localhost:8080/"
        },
        "id": "uFkO_cC3yV5l",
        "outputId": "53b3a43f-e5ac-488a-db03-21b62144fcea"
      },
      "execution_count": null,
      "outputs": [
        {
          "output_type": "stream",
          "name": "stderr",
          "text": [
            "[nltk_data] Downloading package punkt to /root/nltk_data...\n",
            "[nltk_data]   Package punkt is already up-to-date!\n",
            "[nltk_data] Downloading package stopwords to /root/nltk_data...\n",
            "[nltk_data]   Package stopwords is already up-to-date!\n"
          ]
        },
        {
          "output_type": "execute_result",
          "data": {
            "text/plain": [
              "True"
            ]
          },
          "metadata": {},
          "execution_count": 11
        }
      ]
    },
    {
      "cell_type": "code",
      "source": [
        "def tokenize_dataset(dataset):\n",
        "    tokenized_dataset = []\n",
        "    stop_words = set(stopwords.words('english'))\n",
        "    for movie, storyline in dataset.items():\n",
        "        # Tokenize the storyline into words\n",
        "        tokens = word_tokenize(storyline.lower())\n",
        "        # Remove punctuation and stop words\n",
        "        tokens = [word for word in tokens if word.isalnum() and word not in stop_words]\n",
        "        tokenized_dataset.append(tokens)\n",
        "    return tokenized_dataset"
      ],
      "metadata": {
        "id": "6c4fLZVryV8e"
      },
      "execution_count": null,
      "outputs": []
    },
    {
      "cell_type": "code",
      "source": [
        "# Tokenize the dataset\n",
        "tokenized_dataset = tokenize_dataset(movies_dataset)\n",
        "\n",
        "# Print the tokenized dataset\n",
        "for i, tokens in enumerate(tokenized_dataset):\n",
        "    print(\"Movie\", i+1, \"Tokens:\", tokens)"
      ],
      "metadata": {
        "colab": {
          "base_uri": "https://localhost:8080/"
        },
        "id": "kOcQa6au7OeV",
        "outputId": "f2964f49-f29a-4b40-f728-e2b9fe5adab5"
      },
      "execution_count": null,
      "outputs": [
        {
          "output_type": "stream",
          "name": "stdout",
          "text": [
            "Movie 1 Tokens: ['two', 'imprisoned', 'men', 'bond', 'number', 'years', 'finding', 'solace', 'eventual', 'redemption', 'acts', 'common', 'decency']\n",
            "Movie 2 Tokens: ['aging', 'patriarch', 'organized', 'crime', 'dynasty', 'transfers', 'control', 'clandestine', 'empire', 'reluctant', 'son']\n",
            "Movie 3 Tokens: ['menace', 'known', 'joker', 'wreaks', 'havoc', 'chaos', 'people', 'gotham', 'batman', 'must', 'accept', 'one', 'greatest', 'psychological', 'physical', 'tests', 'ability', 'fight', 'injustice']\n",
            "Movie 4 Tokens: ['lives', 'two', 'mob', 'hitmen', 'boxer', 'gangster', 'wife', 'pair', 'diner', 'bandits', 'intertwine', 'four', 'tales', 'violence', 'redemption']\n",
            "Movie 5 Tokens: ['meek', 'hobbit', 'shire', 'eight', 'companions', 'set', 'journey', 'destroy', 'powerful', 'one', 'ring', 'save', 'dark', 'lord', 'sauron']\n"
          ]
        }
      ]
    },
    {
      "cell_type": "code",
      "source": [
        "from collections import Counter\n",
        "import string\n",
        "\n",
        "def frequency_distribution(dataset):\n",
        "    freq_dist_dataset = {}\n",
        "    stop_words = set(stopwords.words('english'))\n",
        "    for movie, storyline in movies_dataset.items():\n",
        "        # Tokenize the storyline into words\n",
        "        tokens = word_tokenize(storyline.lower())\n",
        "        # Remove punctuation and stop words\n",
        "        tokens = [word for word in tokens if word.isalnum() and word not in stop_words]\n",
        "        # Create frequency distribution\n",
        "        freq_dist = Counter(tokens)\n",
        "        freq_dist_dataset[movie] = freq_dist\n",
        "    return freq_dist_dataset\n",
        "\n",
        "# Create frequency distribution for the dataset\n",
        "freq_dist_dataset = frequency_distribution(tokenized_dataset)\n",
        "\n",
        "# Print frequency distributions for each movie/document\n",
        "for movie, freq_dist in freq_dist_dataset.items():\n",
        "    print(\"Movie:\", movie)\n",
        "    print(\"Frequency Distribution:\", freq_dist)\n",
        "    print()"
      ],
      "metadata": {
        "colab": {
          "base_uri": "https://localhost:8080/"
        },
        "id": "2eXBgMmP7Obf",
        "outputId": "d70c8db3-70a8-4cbe-a075-1be2d847643d"
      },
      "execution_count": null,
      "outputs": [
        {
          "output_type": "stream",
          "name": "stdout",
          "text": [
            "Movie: The Shawshank Redemption\n",
            "Frequency Distribution: Counter({'two': 1, 'imprisoned': 1, 'men': 1, 'bond': 1, 'number': 1, 'years': 1, 'finding': 1, 'solace': 1, 'eventual': 1, 'redemption': 1, 'acts': 1, 'common': 1, 'decency': 1})\n",
            "\n",
            "Movie: The Godfather\n",
            "Frequency Distribution: Counter({'aging': 1, 'patriarch': 1, 'organized': 1, 'crime': 1, 'dynasty': 1, 'transfers': 1, 'control': 1, 'clandestine': 1, 'empire': 1, 'reluctant': 1, 'son': 1})\n",
            "\n",
            "Movie: The Dark Knight\n",
            "Frequency Distribution: Counter({'menace': 1, 'known': 1, 'joker': 1, 'wreaks': 1, 'havoc': 1, 'chaos': 1, 'people': 1, 'gotham': 1, 'batman': 1, 'must': 1, 'accept': 1, 'one': 1, 'greatest': 1, 'psychological': 1, 'physical': 1, 'tests': 1, 'ability': 1, 'fight': 1, 'injustice': 1})\n",
            "\n",
            "Movie: Pulp Fiction\n",
            "Frequency Distribution: Counter({'lives': 1, 'two': 1, 'mob': 1, 'hitmen': 1, 'boxer': 1, 'gangster': 1, 'wife': 1, 'pair': 1, 'diner': 1, 'bandits': 1, 'intertwine': 1, 'four': 1, 'tales': 1, 'violence': 1, 'redemption': 1})\n",
            "\n",
            "Movie: The Lord of the Rings: The Fellowship of the Ring\n",
            "Frequency Distribution: Counter({'meek': 1, 'hobbit': 1, 'shire': 1, 'eight': 1, 'companions': 1, 'set': 1, 'journey': 1, 'destroy': 1, 'powerful': 1, 'one': 1, 'ring': 1, 'save': 1, 'dark': 1, 'lord': 1, 'sauron': 1})\n",
            "\n"
          ]
        }
      ]
    },
    {
      "cell_type": "code",
      "source": [
        "import nltk\n",
        "from nltk.tokenize import word_tokenize\n",
        "from nltk.corpus import stopwords\n",
        "from collections import Counter\n",
        "import string\n",
        "\n",
        "# Download NLTK resources\n",
        "nltk.download('punkt')\n",
        "nltk.download('stopwords')\n",
        "\n",
        "def frequency_distribution(dataset):\n",
        "    \"\"\"\n",
        "    Creates a frequency distribution for each document in the dataset,\n",
        "    counting how often each word appears.\n",
        "\n",
        "    Args:\n",
        "    - dataset (dict): A dictionary where keys are movie names and values are their storylines.\n",
        "\n",
        "    Returns:\n",
        "    - freq_dist_dataset (dict): A dictionary where keys are movie names and values are frequency distributions.\n",
        "    \"\"\"\n",
        "    freq_dist_dataset = {}\n",
        "    stop_words = set(stopwords.words('english'))\n",
        "    for movie, storyline in dataset.items():\n",
        "        # Tokenize the storyline into words\n",
        "        tokens = word_tokenize(storyline.lower())\n",
        "        # Remove punctuation and stop words\n",
        "        tokens = [word for word in tokens if word.isalnum() and word not in stop_words]\n",
        "        # Create frequency distribution\n",
        "        freq_dist = Counter(tokens)\n",
        "        freq_dist_dataset[movie] = freq_dist\n",
        "    return freq_dist_dataset\n",
        "\n",
        "# Define the dataset\n",
        "movies_dataset = {\n",
        "    \"The Shawshank Redemption\": \"Two imprisoned men bond over a number of years, finding solace and eventual redemption through acts of common decency.\",\n",
        "    \"The Godfather\": \"The aging patriarch of an organized crime dynasty transfers control of his clandestine empire to his reluctant son.\",\n",
        "    \"The Dark Knight\": \"When the menace known as the Joker wreaks havoc and chaos on the people of Gotham, Batman must accept one of the greatest psychological and physical tests of his ability to fight injustice.\",\n",
        "    \"Pulp Fiction\": \"The lives of two mob hitmen, a boxer, a gangster and his wife, and a pair of diner bandits intertwine in four tales of violence and redemption.\",\n",
        "    \"The Lord of the Rings: The Fellowship of the Ring\": \"A meek Hobbit from the Shire and eight companions set out on a journey to destroy the powerful One Ring and save Middle-earth from the Dark Lord Sauron.\"\n",
        "}\n",
        "\n",
        "# Create frequency distribution for the dataset\n",
        "freq_dist_dataset = frequency_distribution(movies_dataset)\n",
        "\n",
        "# Print frequency distributions for each movie/document\n",
        "for movie, freq_dist in freq_dist_dataset.items():\n",
        "    print(\"Movie:\", movie)\n",
        "    print(\"Frequency Distribution:\", freq_dist)\n",
        "    print()"
      ],
      "metadata": {
        "colab": {
          "base_uri": "https://localhost:8080/"
        },
        "id": "JHYr2G0c_53_",
        "outputId": "fedf58e2-1c46-4b4f-d580-c01ce22d229f"
      },
      "execution_count": null,
      "outputs": [
        {
          "output_type": "stream",
          "name": "stdout",
          "text": [
            "Movie: The Shawshank Redemption\n",
            "Frequency Distribution: Counter({'two': 1, 'imprisoned': 1, 'men': 1, 'bond': 1, 'number': 1, 'years': 1, 'finding': 1, 'solace': 1, 'eventual': 1, 'redemption': 1, 'acts': 1, 'common': 1, 'decency': 1})\n",
            "\n",
            "Movie: The Godfather\n",
            "Frequency Distribution: Counter({'aging': 1, 'patriarch': 1, 'organized': 1, 'crime': 1, 'dynasty': 1, 'transfers': 1, 'control': 1, 'clandestine': 1, 'empire': 1, 'reluctant': 1, 'son': 1})\n",
            "\n",
            "Movie: The Dark Knight\n",
            "Frequency Distribution: Counter({'menace': 1, 'known': 1, 'joker': 1, 'wreaks': 1, 'havoc': 1, 'chaos': 1, 'people': 1, 'gotham': 1, 'batman': 1, 'must': 1, 'accept': 1, 'one': 1, 'greatest': 1, 'psychological': 1, 'physical': 1, 'tests': 1, 'ability': 1, 'fight': 1, 'injustice': 1})\n",
            "\n",
            "Movie: Pulp Fiction\n",
            "Frequency Distribution: Counter({'lives': 1, 'two': 1, 'mob': 1, 'hitmen': 1, 'boxer': 1, 'gangster': 1, 'wife': 1, 'pair': 1, 'diner': 1, 'bandits': 1, 'intertwine': 1, 'four': 1, 'tales': 1, 'violence': 1, 'redemption': 1})\n",
            "\n",
            "Movie: The Lord of the Rings: The Fellowship of the Ring\n",
            "Frequency Distribution: Counter({'meek': 1, 'hobbit': 1, 'shire': 1, 'eight': 1, 'companions': 1, 'set': 1, 'journey': 1, 'destroy': 1, 'powerful': 1, 'one': 1, 'ring': 1, 'save': 1, 'dark': 1, 'lord': 1, 'sauron': 1})\n",
            "\n"
          ]
        },
        {
          "output_type": "stream",
          "name": "stderr",
          "text": [
            "[nltk_data] Downloading package punkt to /root/nltk_data...\n",
            "[nltk_data]   Package punkt is already up-to-date!\n",
            "[nltk_data] Downloading package stopwords to /root/nltk_data...\n",
            "[nltk_data]   Package stopwords is already up-to-date!\n"
          ]
        }
      ]
    },
    {
      "cell_type": "code",
      "source": [
        "import numpy as np\n",
        "\n",
        "def create_bow_matrix(dataset, vocab):\n",
        "    \"\"\"\n",
        "    Constructs a bag-of-words model using the frequency distribution.\n",
        "\n",
        "    Args:\n",
        "    - dataset (dict): A dictionary where keys are movie names and values are frequency distributions.\n",
        "    - vocab (list): A list of words in the dataset's vocabulary.\n",
        "\n",
        "    Returns:\n",
        "    - bow_matrix (numpy.ndarray): A matrix where each row represents a document,\n",
        "                                  each column represents a word in the vocabulary,\n",
        "                                  and the entries are word frequencies.\n",
        "    \"\"\"\n",
        "    bow_matrix = np.zeros((len(dataset), len(vocab)))\n",
        "    for i, (movie, freq_dist) in enumerate(dataset.items()):\n",
        "        for j, word in enumerate(vocab):\n",
        "            bow_matrix[i, j] = freq_dist[word]\n",
        "    return bow_matrix\n",
        "\n",
        "# Get the vocabulary from the frequency distribution of the entire dataset\n",
        "vocab = set()\n",
        "for freq_dist in freq_dist_dataset.values():\n",
        "    vocab.update(freq_dist.keys())\n",
        "\n",
        "# Convert the vocabulary to a list and sort it\n",
        "vocab = sorted(list(vocab))\n",
        "\n",
        "# Create the bag-of-words matrix\n",
        "bow_matrix = create_bow_matrix(freq_dist_dataset, vocab)\n",
        "\n",
        "# Print the bag-of-words matrix\n",
        "print(\"Bag-of-Words Matrix:\")\n",
        "print(bow_matrix)\n"
      ],
      "metadata": {
        "colab": {
          "base_uri": "https://localhost:8080/"
        },
        "id": "hLqJNymn__ma",
        "outputId": "96953257-eaf4-4906-97e1-1aa92f733914"
      },
      "execution_count": null,
      "outputs": [
        {
          "output_type": "stream",
          "name": "stdout",
          "text": [
            "Bag-of-Words Matrix:\n",
            "[[0. 0. 1. 0. 0. 0. 1. 0. 0. 0. 1. 0. 0. 0. 0. 1. 0. 0. 0. 0. 0. 1. 0. 1.\n",
            "  0. 0. 0. 0. 0. 0. 0. 1. 0. 0. 0. 0. 0. 0. 0. 0. 1. 0. 0. 0. 1. 0. 0. 0.\n",
            "  0. 0. 0. 0. 0. 1. 0. 0. 0. 0. 0. 0. 1. 0. 0. 0. 0. 1. 0. 0. 0. 1.]\n",
            " [0. 0. 0. 1. 0. 0. 0. 0. 0. 1. 0. 0. 1. 1. 0. 0. 0. 0. 1. 0. 1. 0. 0. 0.\n",
            "  0. 0. 0. 0. 0. 0. 0. 0. 0. 0. 0. 0. 0. 0. 0. 0. 0. 0. 0. 0. 0. 0. 1. 0.\n",
            "  1. 0. 0. 0. 0. 0. 1. 0. 0. 0. 0. 0. 0. 1. 0. 0. 1. 0. 0. 0. 0. 0.]\n",
            " [1. 1. 0. 0. 0. 1. 0. 0. 1. 0. 0. 0. 0. 0. 0. 0. 0. 0. 0. 0. 0. 0. 1. 0.\n",
            "  0. 0. 1. 1. 1. 0. 0. 0. 1. 0. 1. 0. 1. 0. 0. 0. 0. 1. 0. 1. 0. 1. 0. 0.\n",
            "  0. 1. 1. 0. 1. 0. 0. 0. 0. 0. 0. 0. 0. 0. 0. 1. 0. 0. 0. 0. 1. 0.]\n",
            " [0. 0. 0. 0. 1. 0. 0. 1. 0. 0. 0. 0. 0. 0. 0. 0. 0. 1. 0. 0. 0. 0. 0. 0.\n",
            "  1. 1. 0. 0. 0. 1. 0. 0. 0. 1. 0. 0. 0. 1. 0. 0. 0. 0. 1. 0. 0. 0. 0. 1.\n",
            "  0. 0. 0. 0. 0. 1. 0. 0. 0. 0. 0. 0. 0. 0. 1. 0. 0. 1. 1. 1. 0. 0.]\n",
            " [0. 0. 0. 0. 0. 0. 0. 0. 0. 0. 0. 1. 0. 0. 1. 0. 1. 0. 0. 1. 0. 0. 0. 0.\n",
            "  0. 0. 0. 0. 0. 0. 1. 0. 0. 0. 0. 1. 0. 0. 1. 1. 0. 0. 0. 0. 0. 1. 0. 0.\n",
            "  0. 0. 0. 1. 0. 0. 0. 1. 1. 1. 1. 1. 0. 0. 0. 0. 0. 0. 0. 0. 0. 0.]]\n"
          ]
        }
      ]
    },
    {
      "cell_type": "code",
      "source": [
        "from sklearn.metrics.pairwise import cosine_similarity\n",
        "\n",
        "def query_similarity(query, dataset, vocab):\n",
        "    # Tokenize the query into words\n",
        "    query_tokens = word_tokenize(query.lower())\n",
        "    # Remove punctuation and stop words\n",
        "    stop_words = set(stopwords.words('english'))\n",
        "    query_tokens = [word for word in query_tokens if word.isalnum() and word not in stop_words]\n",
        "    # Create frequency distribution for the query\n",
        "    query_freq_dist = Counter(query_tokens)\n",
        "\n",
        "    # Create bag-of-words vector for the query\n",
        "    query_vector = np.zeros(len(vocab))\n",
        "    for i, word in enumerate(vocab):\n",
        "        query_vector[i] = query_freq_dist[word]\n",
        "\n",
        "    # Compute cosine similarity between query vector and document vectors\n",
        "    similarities = {}\n",
        "    for movie, freq_dist in dataset.items():\n",
        "        doc_vector = np.zeros(len(vocab))\n",
        "        for i, word in enumerate(vocab):\n",
        "            doc_vector[i] = freq_dist[word]\n",
        "        similarity = cosine_similarity([query_vector], [doc_vector])[0][0]\n",
        "        similarities[movie] = similarity\n",
        "\n",
        "    # Find the most relevant document based on cosine similarity\n",
        "    most_relevant_document = max(similarities, key=similarities.get)\n",
        "\n",
        "    return most_relevant_document\n",
        "\n",
        "# Example query\n",
        "query = \"violence\"\n",
        "\n",
        "# Find the most relevant document\n",
        "most_relevant_document = query_similarity(query, freq_dist_dataset, vocab)\n",
        "\n",
        "# Print the most relevant document\n",
        "print(\"Most Relevant Document:\", most_relevant_document)\n"
      ],
      "metadata": {
        "colab": {
          "base_uri": "https://localhost:8080/"
        },
        "id": "2c5FfPZH7OUA",
        "outputId": "68d59955-0fff-498f-86fd-cc057e1e8082"
      },
      "execution_count": null,
      "outputs": [
        {
          "output_type": "stream",
          "name": "stdout",
          "text": [
            "Most Relevant Document: Pulp Fiction\n"
          ]
        }
      ]
    },
    {
      "cell_type": "code",
      "source": [
        "from collections import Counter\n",
        "import numpy as np\n",
        "\n",
        "def calculate_similarity(query_freq_dist, dataset_freq_dist):\n",
        "    similarity_scores = {}\n",
        "    for movie, freq_dist in dataset_freq_dist.items():\n",
        "        common_words = set(query_freq_dist.keys()) & set(freq_dist.keys())\n",
        "        similarity_score = sum(min(query_freq_dist[word], freq_dist[word]) for word in common_words)\n",
        "        similarity_scores[movie] = similarity_score\n",
        "    return similarity_scores\n",
        "\n",
        "def query_bag_of_words(query, vocab):\n",
        "    query_tokens = query.lower().split()\n",
        "    query_freq_dist = Counter(query_tokens)\n",
        "    return query_freq_dist\n",
        "\n",
        "def most_relevant_document(query, dataset_freq_dist, vocab):\n",
        "    query_freq_dist = query_bag_of_words(query, vocab)\n",
        "    similarity_scores = calculate_similarity(query_freq_dist, dataset_freq_dist)\n",
        "    most_relevant_doc = max(similarity_scores, key=similarity_scores.get)\n",
        "    similarity_score = similarity_scores[most_relevant_doc]\n",
        "    return most_relevant_doc, similarity_score\n",
        "\n",
        "\n",
        "# Example query\n",
        "query = \"men\"\n",
        "\n",
        "# Example vocabulary\n",
        "vocab = [\"the\", \"of\", \"and\", \"to\", \"a\", \"in\"]\n",
        "\n",
        "# Find the most relevant document\n",
        "most_relevant_doc, similarity_score = most_relevant_document(query, freq_dist_dataset, vocab)\n",
        "print(\"Most relevant document:\", most_relevant_doc)\n",
        "print(\"Similarity score:\", similarity_score)\n"
      ],
      "metadata": {
        "colab": {
          "base_uri": "https://localhost:8080/"
        },
        "id": "rZu6kFNs-jMZ",
        "outputId": "0d0a362b-1f2e-430d-8465-7297a2dad248"
      },
      "execution_count": null,
      "outputs": [
        {
          "output_type": "stream",
          "name": "stdout",
          "text": [
            "Most relevant document: The Shawshank Redemption\n",
            "Similarity score: 1\n"
          ]
        }
      ]
    }
  ]
}