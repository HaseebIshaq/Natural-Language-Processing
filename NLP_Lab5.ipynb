{
  "nbformat": 4,
  "nbformat_minor": 0,
  "metadata": {
    "colab": {
      "provenance": []
    },
    "kernelspec": {
      "name": "python3",
      "display_name": "Python 3"
    },
    "language_info": {
      "name": "python"
    }
  },
  "cells": [
    {
      "cell_type": "code",
      "execution_count": null,
      "metadata": {
        "id": "m-QoGzgDuxgR"
      },
      "outputs": [],
      "source": [
        "# 1. TF-IDF Analysis Task:\n",
        "# Create a mini search engine for a set of documents.\n",
        "# -Task:\n",
        "#   -  you should come up with a corpus of documents (these could be articles, book chapters, or any collection of text).\n",
        "#   -  you need to write a program that calculates the TF-IDF score for each word in each document.\n",
        "#  -  you should then create a simple search function that uses the TF-IDF scores to find and rank documents based on a query of one or more words.\n",
        "# -Extension:\n",
        "#   - You could expand the search engine to include basic preprocessing of the text such as tokenization, stopping, stemming, or lemmatization.\n",
        "#   - Discuss how different preprocessing steps might affect the TF-IDF scores and the search results.\n"
      ]
    },
    {
      "cell_type": "code",
      "source": [
        "import nltk\n",
        "import math\n",
        "from collections import Counter\n",
        "from nltk.corpus import stopwords\n",
        "from nltk.tokenize import word_tokenize\n",
        "from sklearn.feature_extraction.text import TfidfVectorizer\n",
        "\n",
        "nltk.download('punkt')\n",
        "nltk.download('stopwords')\n",
        "\n",
        "stop_words = set(stopwords.words('english'))"
      ],
      "metadata": {
        "colab": {
          "base_uri": "https://localhost:8080/"
        },
        "id": "A1PFhY2fxMqD",
        "outputId": "408024e4-096d-47a4-b54e-c897fad7d23c"
      },
      "execution_count": null,
      "outputs": [
        {
          "output_type": "stream",
          "name": "stderr",
          "text": [
            "[nltk_data] Downloading package punkt to /root/nltk_data...\n",
            "[nltk_data]   Package punkt is already up-to-date!\n",
            "[nltk_data] Downloading package stopwords to /root/nltk_data...\n",
            "[nltk_data]   Package stopwords is already up-to-date!\n"
          ]
        }
      ]
    },
    {
      "cell_type": "code",
      "source": [
        "car_documents = [\n",
        "    \"The automotive industry is undergoing rapid advancements in electric vehicles.\",\n",
        "    \"Many car manufacturers are investing heavily in autonomous driving technology.\",\n",
        "    \"Fuel efficiency has become a key focus for consumers when purchasing new vehicles.\",\n",
        "    \"Classic cars hold a special place in the hearts of many enthusiasts.\",\n",
        "    \"Safety features such as automatic emergency braking and adaptive cruise control are becoming standard in modern cars.\",\n",
        "    \"The future of mobility is expected to be shaped by innovations in connected vehicles and smart transportation systems.\",\n",
        "    \"Vintage car shows attract car lovers from around the world to admire rare and well-preserved automobiles.\",\n",
        "    \"Car racing remains a popular sport, with events like Formula 1 drawing large crowds and global television audiences.\",\n",
        "    \"Electric cars are becoming increasingly mainstream as governments push for greener transportation options.\",\n",
        "    \"Car enthusiasts often gather at car meets and rallies to showcase their vehicles and share their passion for cars.\",\n",
        "]"
      ],
      "metadata": {
        "id": "LUVIBNE90D8y"
      },
      "execution_count": null,
      "outputs": []
    },
    {
      "cell_type": "code",
      "source": [
        "def preprocess_documents(documents):\n",
        "    preprocessed_documents = []\n",
        "    for doc in documents:\n",
        "        tokens = word_tokenize(doc.lower())\n",
        "        tokens = [token for token in tokens if token.isalnum() and token not in stop_words]\n",
        "        preprocessed_documents.append(\" \".join(tokens))\n",
        "    return preprocessed_documents"
      ],
      "metadata": {
        "id": "cdXEt7b-yLyS"
      },
      "execution_count": null,
      "outputs": []
    },
    {
      "cell_type": "code",
      "source": [
        "preprocessed_car_documents = preprocess_documents(car_documents)\n",
        "\n",
        "preprocessed_car_documents"
      ],
      "metadata": {
        "colab": {
          "base_uri": "https://localhost:8080/"
        },
        "id": "TG5ZJBi6yLvw",
        "outputId": "4c56fd55-fc5a-48b5-bb68-b357ab676fe5"
      },
      "execution_count": null,
      "outputs": [
        {
          "output_type": "execute_result",
          "data": {
            "text/plain": [
              "['automotive industry undergoing rapid advancements electric vehicles',\n",
              " 'many car manufacturers investing heavily autonomous driving technology',\n",
              " 'fuel efficiency become key focus consumers purchasing new vehicles',\n",
              " 'classic cars hold special place hearts many enthusiasts',\n",
              " 'safety features automatic emergency braking adaptive cruise control becoming standard modern cars',\n",
              " 'future mobility expected shaped innovations connected vehicles smart transportation systems',\n",
              " 'vintage car shows attract car lovers around world admire rare automobiles',\n",
              " 'car racing remains popular sport events like formula 1 drawing large crowds global television audiences',\n",
              " 'electric cars becoming increasingly mainstream governments push greener transportation options',\n",
              " 'car enthusiasts often gather car meets rallies showcase vehicles share passion cars']"
            ]
          },
          "metadata": {},
          "execution_count": 5
        }
      ]
    },
    {
      "cell_type": "code",
      "source": [
        "# Calculate TF-IDF scores using TfidfVectorizer\n",
        "def calculate_tf_idf_scores(preprocessed_documents):\n",
        "    vectorizer = TfidfVectorizer()\n",
        "    tf_idf_matrix = vectorizer.fit_transform(preprocessed_documents)\n",
        "    feature_names = vectorizer.get_feature_names_out()\n",
        "\n",
        "    tf_idf_scores = []\n",
        "    for row in tf_idf_matrix:\n",
        "        doc_scores = {}\n",
        "        for word_idx, score in zip(row.indices, row.data):\n",
        "            word = feature_names[word_idx]\n",
        "            doc_scores[word] = score\n",
        "        tf_idf_scores.append(doc_scores)\n",
        "\n",
        "    return tf_idf_scores"
      ],
      "metadata": {
        "id": "TvduPXM8yLtW"
      },
      "execution_count": null,
      "outputs": []
    },
    {
      "cell_type": "code",
      "source": [
        "tf_idf_scores_car = calculate_tf_idf_scores(preprocessed_car_documents)\n",
        "\n",
        "tf_idf_scores_car"
      ],
      "metadata": {
        "colab": {
          "base_uri": "https://localhost:8080/"
        },
        "id": "zMV9E2ROyLqw",
        "outputId": "75d574d4-f6f2-45a1-8883-72b7d4cc6bc4"
      },
      "execution_count": null,
      "outputs": [
        {
          "output_type": "execute_result",
          "data": {
            "text/plain": [
              "[{'vehicles': 0.26641929917719137,\n",
              "  'electric': 0.3425149376316455,\n",
              "  'advancements': 0.4029154438651177,\n",
              "  'rapid': 0.4029154438651177,\n",
              "  'undergoing': 0.4029154438651177,\n",
              "  'industry': 0.4029154438651177,\n",
              "  'automotive': 0.4029154438651177},\n",
              " {'technology': 0.37372070791781686,\n",
              "  'driving': 0.37372070791781686,\n",
              "  'autonomous': 0.37372070791781686,\n",
              "  'heavily': 0.37372070791781686,\n",
              "  'investing': 0.37372070791781686,\n",
              "  'manufacturers': 0.37372070791781686,\n",
              "  'car': 0.24711489869025727,\n",
              "  'many': 0.3176967448459908},\n",
              " {'new': 0.34427082653791113,\n",
              "  'purchasing': 0.34427082653791113,\n",
              "  'consumers': 0.34427082653791113,\n",
              "  'focus': 0.34427082653791113,\n",
              "  'key': 0.34427082653791113,\n",
              "  'become': 0.34427082653791113,\n",
              "  'efficiency': 0.34427082653791113,\n",
              "  'fuel': 0.34427082653791113,\n",
              "  'vehicles': 0.22764178869273513},\n",
              " {'enthusiasts': 0.3240346206695762,\n",
              "  'hearts': 0.38117623107916926,\n",
              "  'place': 0.38117623107916926,\n",
              "  'special': 0.38117623107916926,\n",
              "  'hold': 0.38117623107916926,\n",
              "  'cars': 0.25204470539260787,\n",
              "  'classic': 0.38117623107916926,\n",
              "  'many': 0.3240346206695762},\n",
              " {'modern': 0.29934379473347933,\n",
              "  'standard': 0.29934379473347933,\n",
              "  'becoming': 0.2544695735661133,\n",
              "  'control': 0.29934379473347933,\n",
              "  'cruise': 0.29934379473347933,\n",
              "  'adaptive': 0.29934379473347933,\n",
              "  'braking': 0.29934379473347933,\n",
              "  'emergency': 0.29934379473347933,\n",
              "  'automatic': 0.29934379473347933,\n",
              "  'features': 0.29934379473347933,\n",
              "  'safety': 0.29934379473347933,\n",
              "  'cars': 0.19793474094935037},\n",
              " {'systems': 0.3304114850897625,\n",
              "  'transportation': 0.2808799487124775,\n",
              "  'smart': 0.3304114850897625,\n",
              "  'connected': 0.3304114850897625,\n",
              "  'innovations': 0.3304114850897625,\n",
              "  'shaped': 0.3304114850897625,\n",
              "  'expected': 0.3304114850897625,\n",
              "  'mobility': 0.3304114850897625,\n",
              "  'future': 0.3304114850897625,\n",
              "  'vehicles': 0.21847759284992388},\n",
              " {'automobiles': 0.30501282932905016,\n",
              "  'rare': 0.30501282932905016,\n",
              "  'admire': 0.30501282932905016,\n",
              "  'world': 0.30501282932905016,\n",
              "  'around': 0.30501282932905016,\n",
              "  'lovers': 0.30501282932905016,\n",
              "  'attract': 0.30501282932905016,\n",
              "  'shows': 0.30501282932905016,\n",
              "  'vintage': 0.30501282932905016,\n",
              "  'car': 0.4033665398892048},\n",
              " {'audiences': 0.27280054208847054,\n",
              "  'television': 0.27280054208847054,\n",
              "  'global': 0.27280054208847054,\n",
              "  'crowds': 0.27280054208847054,\n",
              "  'large': 0.27280054208847054,\n",
              "  'drawing': 0.27280054208847054,\n",
              "  'formula': 0.27280054208847054,\n",
              "  'like': 0.27280054208847054,\n",
              "  'events': 0.27280054208847054,\n",
              "  'sport': 0.27280054208847054,\n",
              "  'popular': 0.27280054208847054,\n",
              "  'remains': 0.27280054208847054,\n",
              "  'racing': 0.27280054208847054,\n",
              "  'car': 0.1803835776091491},\n",
              " {'options': 0.34089433229106425,\n",
              "  'greener': 0.34089433229106425,\n",
              "  'push': 0.34089433229106425,\n",
              "  'governments': 0.34089433229106425,\n",
              "  'mainstream': 0.34089433229106425,\n",
              "  'increasingly': 0.34089433229106425,\n",
              "  'transportation': 0.2897913265462791,\n",
              "  'becoming': 0.2897913265462791,\n",
              "  'cars': 0.2254091534224378,\n",
              "  'electric': 0.2897913265462791},\n",
              " {'passion': 0.3108950700620359,\n",
              "  'share': 0.3108950700620359,\n",
              "  'showcase': 0.3108950700620359,\n",
              "  'rallies': 0.3108950700620359,\n",
              "  'meets': 0.3108950700620359,\n",
              "  'gather': 0.3108950700620359,\n",
              "  'often': 0.3108950700620359,\n",
              "  'enthusiasts': 0.2642892129196523,\n",
              "  'cars': 0.20557277698022308,\n",
              "  'car': 0.41114555396044616,\n",
              "  'vehicles': 0.20557277698022308}]"
            ]
          },
          "metadata": {},
          "execution_count": 7
        }
      ]
    },
    {
      "cell_type": "code",
      "source": [
        "# Define search function based on TF-IDF scores\n",
        "def search_car(query, documents, tf_idf_scores):\n",
        "    query_tokens = [token for token in word_tokenize(query.lower()) if token.isalnum()]\n",
        "    scores = []\n",
        "    for idx, doc in enumerate(tf_idf_scores):\n",
        "        doc_score = sum(doc.get(word, 0) for word in query_tokens)\n",
        "        scores.append((idx, doc_score))\n",
        "    ranked_results = sorted(scores, key=lambda x: x[1], reverse=True)\n",
        "    return [documents[idx] for idx, _ in ranked_results]"
      ],
      "metadata": {
        "id": "6ocT0nSpyLoa"
      },
      "execution_count": null,
      "outputs": []
    },
    {
      "cell_type": "code",
      "source": [
        "# Prompt the user to input their query\n",
        "query = input(\"Enter your query: \")\n",
        "\n",
        "# Call the search function with the user's query\n",
        "results = search_car(query, car_documents, tf_idf_scores_car)\n",
        "\n",
        "# Print the search results\n",
        "print(\"Search Results for query '{}':\".format(query))\n",
        "for idx, result in enumerate(results):\n",
        "    print(\"{}. {}\".format(idx+1, result))"
      ],
      "metadata": {
        "colab": {
          "base_uri": "https://localhost:8080/"
        },
        "id": "SOazb2_oyLfW",
        "outputId": "26047759-7872-4b6e-e165-978d278b2e7f"
      },
      "execution_count": null,
      "outputs": [
        {
          "output_type": "stream",
          "name": "stdout",
          "text": [
            "Enter your query: automatic\n",
            "Search Results for query 'automatic':\n",
            "1. Safety features such as automatic emergency braking and adaptive cruise control are becoming standard in modern cars.\n",
            "2. The automotive industry is undergoing rapid advancements in electric vehicles.\n",
            "3. Many car manufacturers are investing heavily in autonomous driving technology.\n",
            "4. Fuel efficiency has become a key focus for consumers when purchasing new vehicles.\n",
            "5. Classic cars hold a special place in the hearts of many enthusiasts.\n",
            "6. The future of mobility is expected to be shaped by innovations in connected vehicles and smart transportation systems.\n",
            "7. Vintage car shows attract car lovers from around the world to admire rare and well-preserved automobiles.\n",
            "8. Car racing remains a popular sport, with events like Formula 1 drawing large crowds and global television audiences.\n",
            "9. Electric cars are becoming increasingly mainstream as governments push for greener transportation options.\n",
            "10. Car enthusiasts often gather at car meets and rallies to showcase their vehicles and share their passion for cars.\n"
          ]
        }
      ]
    },
    {
      "cell_type": "markdown",
      "source": [
        "### Task 2"
      ],
      "metadata": {
        "id": "FYfBIfBa28K3"
      }
    },
    {
      "cell_type": "code",
      "source": [
        "# N-gram Model Task:\n",
        "#   - come up  with a text dataset (like a set of tweets, sentences from books, or movie subtitles).or u can use previously used data\n",
        "#   - you will create an N-gram model that predicts the next word(s) based on the previous word(s) in a sequence.\n",
        "#   - you should then use their model to generate new sentences based on a given starting sequence of words.\n",
        "# - Extension:\n",
        "#     - Explore the effects of smoothing techniques on the model's performance."
      ],
      "metadata": {
        "id": "zSl5ANDQ299-"
      },
      "execution_count": null,
      "outputs": []
    },
    {
      "cell_type": "code",
      "source": [
        "from nltk import trigrams\n",
        "import random\n",
        "\n",
        "# Define the corpus of car-related sentences\n",
        "car_sentences = [\n",
        "    \"Vehicle automotive industry is undergoing rapid advancements in electric vehicles.\",\n",
        "    \"Many car manufacturers are investing heavily in autonomous driving technology.\",\n",
        "    \"Fuel efficiency has become a key focus for consumers when purchasing new vehicles.\",\n",
        "    \"Classic cars hold a special place in the hearts of many enthusiasts.\",\n",
        "    \"Safety features such as automatic emergency braking and adaptive cruise control are becoming standard in modern cars.\",\n",
        "]\n",
        "\n",
        "# Preprocess the corpus\n",
        "corpus = \" \".join(car_sentences).lower().split()\n",
        "\n",
        "# Create trigrams\n",
        "tri_grams = list(trigrams(corpus))\n",
        "\n",
        "# Function to predict the next word based on the trigrams\n",
        "def predict_next_word_tri_gram(tri_grams, prefix):\n",
        "    possible_next_words = [word for first_word, second_word, word in tri_grams if (first_word, second_word) == prefix]\n",
        "    if not possible_next_words:\n",
        "        print(\"Prefix not found in the corpus.\")\n",
        "        return None\n",
        "    next_word = random.choice(possible_next_words)\n",
        "    return next_word\n",
        "\n",
        "# Function to generate a new sentence based on a given starting sequence of words\n",
        "def generate_sentence_tri_gram(tri_grams, start_sequence, max_length=20):\n",
        "    sentence = list(start_sequence)\n",
        "    while len(sentence) < max_length:\n",
        "        next_word = predict_next_word_tri_gram(tri_grams, (sentence[-2], sentence[-1]))\n",
        "        if next_word is None:\n",
        "            print(\"No words found to continue the sentence.\")\n",
        "            break\n",
        "        sentence.append(next_word)\n",
        "        if next_word.endswith(('.', '!', '?')):\n",
        "            break\n",
        "    return ' '.join(sentence)\n",
        "\n",
        "# Take starting words from the user\n",
        "starting_words = input(\"Enter the starting words (separate words with spaces): \").lower().split()\n",
        "\n",
        "# Test if the starting words exist in the corpus\n",
        "if tuple(starting_words) not in [(first_word, second_word) for first_word, second_word, word in tri_grams]:\n",
        "    print(\"Starting words not found in the corpus.\")\n",
        "    exit()\n",
        "\n",
        "# Test the model by generating a new sentencea\n",
        "new_sentence = generate_sentence_tri_gram(tri_grams, starting_words)\n",
        "print(\"Generated Sentence:\")\n",
        "print(new_sentence)\n"
      ],
      "metadata": {
        "colab": {
          "base_uri": "https://localhost:8080/"
        },
        "id": "M1hre9nl52RD",
        "outputId": "48a9b132-252e-4b12-c5b4-f6c6a65ea360"
      },
      "execution_count": null,
      "outputs": [
        {
          "output_type": "stream",
          "name": "stdout",
          "text": [
            "Enter the starting words (separate words with spaces): automotive industry\n",
            "Generated Sentence:\n",
            "automotive industry is undergoing rapid advancements in electric vehicles.\n"
          ]
        }
      ]
    },
    {
      "cell_type": "code",
      "source": [
        "# Define the corpus of car-related sentences\n",
        "car_sentences = [\n",
        "    \"The automotive industry is undergoing rapid advancements in electric vehicles.\",\n",
        "    \"Many car manufacturers are investing heavily in autonomous driving technology.\",\n",
        "    \"Fuel efficiency has become a key focus for consumers when purchasing new vehicles.\",\n",
        "    \"Classic cars hold a special place in the hearts of many enthusiasts.\",\n",
        "    \"Safety features such as automatic emergency braking and adaptive cruise control are becoming standard in modern cars.\",\n",
        "]\n",
        "\n",
        "\n",
        "# Create trigrams\n",
        "tri_grams = list(trigrams(corpus))\n",
        "tri_grams"
      ],
      "metadata": {
        "colab": {
          "base_uri": "https://localhost:8080/"
        },
        "id": "ldVFrwDE77Xj",
        "outputId": "4b24c943-8bd6-43de-84fd-07becc1d3ee5"
      },
      "execution_count": null,
      "outputs": [
        {
          "output_type": "execute_result",
          "data": {
            "text/plain": [
              "[('the', 'automotive', 'industry'),\n",
              " ('automotive', 'industry', 'is'),\n",
              " ('industry', 'is', 'undergoing'),\n",
              " ('is', 'undergoing', 'rapid'),\n",
              " ('undergoing', 'rapid', 'advancements'),\n",
              " ('rapid', 'advancements', 'in'),\n",
              " ('advancements', 'in', 'electric'),\n",
              " ('in', 'electric', 'vehicles.'),\n",
              " ('electric', 'vehicles.', 'many'),\n",
              " ('vehicles.', 'many', 'car'),\n",
              " ('many', 'car', 'manufacturers'),\n",
              " ('car', 'manufacturers', 'are'),\n",
              " ('manufacturers', 'are', 'investing'),\n",
              " ('are', 'investing', 'heavily'),\n",
              " ('investing', 'heavily', 'in'),\n",
              " ('heavily', 'in', 'autonomous'),\n",
              " ('in', 'autonomous', 'driving'),\n",
              " ('autonomous', 'driving', 'technology.'),\n",
              " ('driving', 'technology.', 'fuel'),\n",
              " ('technology.', 'fuel', 'efficiency'),\n",
              " ('fuel', 'efficiency', 'has'),\n",
              " ('efficiency', 'has', 'become'),\n",
              " ('has', 'become', 'a'),\n",
              " ('become', 'a', 'key'),\n",
              " ('a', 'key', 'focus'),\n",
              " ('key', 'focus', 'for'),\n",
              " ('focus', 'for', 'consumers'),\n",
              " ('for', 'consumers', 'when'),\n",
              " ('consumers', 'when', 'purchasing'),\n",
              " ('when', 'purchasing', 'new'),\n",
              " ('purchasing', 'new', 'vehicles.'),\n",
              " ('new', 'vehicles.', 'classic'),\n",
              " ('vehicles.', 'classic', 'cars'),\n",
              " ('classic', 'cars', 'hold'),\n",
              " ('cars', 'hold', 'a'),\n",
              " ('hold', 'a', 'special'),\n",
              " ('a', 'special', 'place'),\n",
              " ('special', 'place', 'in'),\n",
              " ('place', 'in', 'the'),\n",
              " ('in', 'the', 'hearts'),\n",
              " ('the', 'hearts', 'of'),\n",
              " ('hearts', 'of', 'many'),\n",
              " ('of', 'many', 'enthusiasts.'),\n",
              " ('many', 'enthusiasts.', 'safety'),\n",
              " ('enthusiasts.', 'safety', 'features'),\n",
              " ('safety', 'features', 'such'),\n",
              " ('features', 'such', 'as'),\n",
              " ('such', 'as', 'automatic'),\n",
              " ('as', 'automatic', 'emergency'),\n",
              " ('automatic', 'emergency', 'braking'),\n",
              " ('emergency', 'braking', 'and'),\n",
              " ('braking', 'and', 'adaptive'),\n",
              " ('and', 'adaptive', 'cruise'),\n",
              " ('adaptive', 'cruise', 'control'),\n",
              " ('cruise', 'control', 'are'),\n",
              " ('control', 'are', 'becoming'),\n",
              " ('are', 'becoming', 'standard'),\n",
              " ('becoming', 'standard', 'in'),\n",
              " ('standard', 'in', 'modern'),\n",
              " ('in', 'modern', 'cars.')]"
            ]
          },
          "metadata": {},
          "execution_count": 11
        }
      ]
    }
  ]
}